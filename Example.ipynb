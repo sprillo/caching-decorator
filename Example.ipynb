{
 "cells": [
  {
   "cell_type": "code",
   "execution_count": 1,
   "metadata": {},
   "outputs": [],
   "source": [
    "import time\n",
    "import caching\n",
    "\n",
    "@caching.cached(\n",
    "    exclude=[\"num_processes\"],\n",
    "    exclude_if_default=[\"z\"],\n",
    ")\n",
    "def slow_function(\n",
    "    x: int,\n",
    "    y: int,\n",
    "    num_processes: int,\n",
    "    z: int = 0\n",
    "):\n",
    "    time.sleep(2 / num_processes)\n",
    "    return x + y + z"
   ]
  },
  {
   "cell_type": "code",
   "execution_count": 2,
   "metadata": {},
   "outputs": [
    {
     "output_type": "stream",
     "name": "stdout",
     "text": [
      "[2022-06-28 23:19:22,563] - caching - INFO - Setting cache directory to: _cache_dir\n",
      "[2022-06-28 23:19:22,564] - caching - INFO - Setting cache to use use_hash: False\n"
     ]
    }
   ],
   "source": [
    "caching.set_cache_dir(\"_cache_dir\")\n",
    "caching.set_use_hash(False)"
   ]
  },
  {
   "cell_type": "code",
   "execution_count": 3,
   "metadata": {},
   "outputs": [
    {
     "output_type": "execute_result",
     "data": {
      "text/plain": [
       "2"
      ]
     },
     "metadata": {},
     "execution_count": 3
    }
   ],
   "source": [
    "slow_function(1, 1, num_processes=1, z=0)"
   ]
  },
  {
   "cell_type": "code",
   "execution_count": null,
   "metadata": {},
   "outputs": [],
   "source": []
  }
 ],
 "metadata": {
  "kernelspec": {
   "display_name": "Python 3 (ipykernel)",
   "language": "python",
   "name": "python3"
  },
  "language_info": {
   "codemirror_mode": {
    "name": "ipython",
    "version": 3
   },
   "file_extension": ".py",
   "mimetype": "text/x-python",
   "name": "python",
   "nbconvert_exporter": "python",
   "pygments_lexer": "ipython3",
   "version": "3.8.3-final"
  }
 },
 "nbformat": 4,
 "nbformat_minor": 4
}