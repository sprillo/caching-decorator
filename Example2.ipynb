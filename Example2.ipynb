{
 "metadata": {
  "language_info": {
   "codemirror_mode": {
    "name": "ipython",
    "version": 3
   },
   "file_extension": ".py",
   "mimetype": "text/x-python",
   "name": "python",
   "nbconvert_exporter": "python",
   "pygments_lexer": "ipython3",
   "version": "3.9.13-final"
  },
  "orig_nbformat": 2,
  "kernelspec": {
   "name": "python3",
   "display_name": "Python 3.9.13 64-bit",
   "metadata": {
    "interpreter": {
     "hash": "aee8b7b246df8f9039afb4144a1f6fd8d2ca17a180786b69acc140d282b71a49"
    }
   }
  }
 },
 "nbformat": 4,
 "nbformat_minor": 2,
 "cells": [
  {
   "cell_type": "code",
   "execution_count": 1,
   "metadata": {},
   "outputs": [],
   "source": [
    "import time\n",
    "import caching\n",
    "from typing import List, Optional\n",
    "\n",
    "@caching.cached_computation(\n",
    "    output_dirs=[\"output_model_dir\"],\n",
    ")\n",
    "def train_scvi_model(\n",
    "    adata_path: str,\n",
    "    n_hidden: int = 128,\n",
    "    n_latent: int = 10,\n",
    "    n_layers: int = 10,\n",
    "    dropout_rate: float = 0.1,\n",
    "    dispersion: str = 'gene',\n",
    "    gene_likelihood: str = 'zinb',\n",
    "    latent_distribution: str = 'normal',\n",
    "    model_kwargs: List = [],\n",
    "    output_model_dir: Optional[str] = None,\n",
    ") -> None:\n",
    "    \"\"\"\n",
    "    Train scVI model on a dataset\n",
    "    \"\"\"\n",
    "    print(f\"Training scVI on {adata_path} ...\")\n",
    "\n",
    "    # Train scVI\n",
    "    time.sleep(2)\n",
    "\n",
    "    with open(os.path.join(output_model_dir, \"result.txt\"), \"w\") as model_file:\n",
    "        model_file.write(\"A serialized scVI model ...\")"
   ]
  },
  {
   "cell_type": "code",
   "execution_count": 2,
   "metadata": {},
   "outputs": [
    {
     "output_type": "stream",
     "name": "stdout",
     "text": [
      "[2022-06-28 23:19:55,067] - caching - INFO - Setting cache directory to: _cache_dir_2\n"
     ]
    }
   ],
   "source": [
    "caching.set_cache_dir(\"_cache_dir_2\")"
   ]
  },
  {
   "cell_type": "code",
   "execution_count": 3,
   "metadata": {},
   "outputs": [
    {
     "output_type": "stream",
     "name": "stdout",
     "text": [
      "Training scVI on path/to/adata ...\n",
      "output_model_dir = _cache_dir_2/train_scvi_model/71c36a19d76dbac5f28473d6111103907e915a3913767e7614c1508eb503dc951b77180e122535eb09b3d72eea187db5c4831599c6a0c0bb04b23496fc8f741a/output_model_dir\n"
     ]
    }
   ],
   "source": [
    "output_model_dir = train_scvi_model(\n",
    "    adata_path=\"path/to/adata\",\n",
    ")[\"output_model_dir\"]\n",
    "\n",
    "print(f\"output_model_dir = {output_model_dir}\")"
   ]
  },
  {
   "cell_type": "code",
   "execution_count": null,
   "metadata": {},
   "outputs": [],
   "source": []
  }
 ]
}